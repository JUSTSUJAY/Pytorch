{
 "cells": [
  {
   "cell_type": "markdown",
   "id": "51b3833f",
   "metadata": {},
   "source": [
    "`torch.autograd` is pytorch's automatic differentiation engine\n",
    "what happens in a NN\n",
    "1. Forward()\n",
    "2. Backward()"
   ]
  },
  {
   "cell_type": "markdown",
   "id": "766261b9",
   "metadata": {},
   "source": [
    "- we load a pretrained resnet18 model from `torchvision`\n",
    "-  create a random data tensor to represent a single image with 3 channels, and height & width of 64\n",
    "- label initialized to some random values\n",
    "- Label in pretrained models has shape (1,1000)."
   ]
  },
  {
   "cell_type": "code",
   "execution_count": 1,
   "id": "dcc7991a",
   "metadata": {},
   "outputs": [],
   "source": [
    "import torch\n",
    "from torchvision.models import resnet18, ResNet18_Weights"
   ]
  },
  {
   "cell_type": "code",
   "execution_count": 2,
   "id": "98e5a555",
   "metadata": {},
   "outputs": [
    {
     "name": "stderr",
     "output_type": "stream",
     "text": [
      "Downloading: \"https://download.pytorch.org/models/resnet18-f37072fd.pth\" to C:\\Users\\dell/.cache\\torch\\hub\\checkpoints\\resnet18-f37072fd.pth\n",
      "100%|█████████████████████████████████████████████████████████████████████████████| 44.7M/44.7M [18:06<00:00, 43.1kB/s]\n"
     ]
    }
   ],
   "source": [
    "model = resnet18(weights = ResNet18_Weights.DEFAULT)"
   ]
  },
  {
   "cell_type": "code",
   "execution_count": 3,
   "id": "d4abba4d",
   "metadata": {},
   "outputs": [],
   "source": [
    "data = torch.rand(1,3,64,64)\n",
    "labels = torch.rand(1,1000)"
   ]
  },
  {
   "cell_type": "code",
   "execution_count": 4,
   "id": "990ebe30",
   "metadata": {},
   "outputs": [],
   "source": [
    "# forward pass\n",
    "prediction = model(data)"
   ]
  },
  {
   "cell_type": "markdown",
   "id": "be82ea22",
   "metadata": {},
   "source": [
    "- we will use model predictions and the labels to calculate the loss\n",
    "- after calculating the loss we will backpropagate - which starts once we say `.backward()`\n",
    "- Autograd then calculates and stores the gradients for each model parameter and can be access by `parameter.grad`"
   ]
  },
  {
   "cell_type": "code",
   "execution_count": 6,
   "id": "3e97fc0c",
   "metadata": {},
   "outputs": [],
   "source": [
    "loss = (prediction - labels).sum()\n",
    "loss.backward()"
   ]
  },
  {
   "cell_type": "code",
   "execution_count": 7,
   "id": "4f4a5e64",
   "metadata": {},
   "outputs": [],
   "source": [
    "optimizer = torch.optim.SGD(model.parameters(),lr = 1e-3, momentum = 0.9)"
   ]
  },
  {
   "cell_type": "code",
   "execution_count": 8,
   "id": "b9ef291f",
   "metadata": {},
   "outputs": [],
   "source": [
    "# to initiate the gradient descent we call \n",
    "optimizer.step()\n",
    "# each parameters gradient is stored in parameter.grad and optimizer uses it to optimize it"
   ]
  },
  {
   "cell_type": "markdown",
   "id": "45e8eb49",
   "metadata": {},
   "source": [
    "## Differentiation in Autograd\n",
    "Let's take a look at how ``autograd`` collects gradients. We create two tensors ``a`` and ``b`` with\n",
    "``requires_grad=True``. This signals to ``autograd`` that every operation on them should be tracked.\n",
    "\n"
   ]
  },
  {
   "cell_type": "code",
   "execution_count": 9,
   "id": "46c5d156",
   "metadata": {},
   "outputs": [],
   "source": [
    "a = torch.tensor([2., 3.], requires_grad=True)\n",
    "b = torch.tensor([6., 4.], requires_grad=True)"
   ]
  },
  {
   "cell_type": "markdown",
   "id": "7e431aa2",
   "metadata": {},
   "source": [
    "We create another tensor ``Q`` from ``a`` and ``b``.\n",
    "\n",
    "\\begin{align}Q = 3a^3 - b^2\\end{align}\n",
    "\n"
   ]
  },
  {
   "cell_type": "code",
   "execution_count": 10,
   "id": "6009fc64",
   "metadata": {},
   "outputs": [],
   "source": [
    "Q = 3*a**3 - b**2"
   ]
  },
  {
   "cell_type": "markdown",
   "id": "8ffa361e",
   "metadata": {},
   "source": [
    "Let's assume ``a`` and ``b`` to be parameters of an NN, and ``Q``\n",
    "to be the error. In NN training, we want gradients of the error\n",
    "w.r.t. parameters, i.e.\n",
    "\n",
    "\\begin{align}\\frac{\\partial Q}{\\partial a} = 9a^2\\end{align}\n",
    "\n",
    "\\begin{align}\\frac{\\partial Q}{\\partial b} = -2b\\end{align}\n",
    "\n",
    "\n",
    "When we call ``.backward()`` on ``Q``, autograd calculates these gradients\n",
    "and stores them in the respective tensors' ``.grad`` attribute.\n",
    "\n",
    "We need to explicitly pass a ``gradient`` argument in ``Q.backward()`` because it is a vector.\n",
    "``gradient`` is a tensor of the same shape as ``Q``, and it represents the\n",
    "gradient of Q w.r.t. itself, i.e.\n",
    "\n",
    "\\begin{align}\\frac{dQ}{dQ} = 1\\end{align}\n",
    "\n",
    "Equivalently, we can also aggregate Q into a scalar and call backward implicitly, like ``Q.sum().backward()``.\n",
    "\n",
    "\n"
   ]
  },
  {
   "cell_type": "code",
   "execution_count": 11,
   "id": "2412d286",
   "metadata": {},
   "outputs": [],
   "source": [
    "external_grad = torch.tensor([1., 1.])\n",
    "Q.backward(gradient=external_grad)"
   ]
  },
  {
   "cell_type": "code",
   "execution_count": 12,
   "id": "41312357",
   "metadata": {},
   "outputs": [
    {
     "name": "stdout",
     "output_type": "stream",
     "text": [
      "tensor([True, True])\n",
      "tensor([True, True])\n"
     ]
    }
   ],
   "source": [
    "# check if collected gradients are correct\n",
    "print(9*a**2 == a.grad)\n",
    "print(-2*b == b.grad)"
   ]
  },
  {
   "cell_type": "code",
   "execution_count": null,
   "id": "70f1bef9",
   "metadata": {},
   "outputs": [],
   "source": []
  }
 ],
 "metadata": {
  "kernelspec": {
   "display_name": "Python 3 (ipykernel)",
   "language": "python",
   "name": "python3"
  },
  "language_info": {
   "codemirror_mode": {
    "name": "ipython",
    "version": 3
   },
   "file_extension": ".py",
   "mimetype": "text/x-python",
   "name": "python",
   "nbconvert_exporter": "python",
   "pygments_lexer": "ipython3",
   "version": "3.9.2"
  }
 },
 "nbformat": 4,
 "nbformat_minor": 5
}
